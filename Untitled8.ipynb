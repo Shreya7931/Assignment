{
 "cells": [
  {
   "cell_type": "code",
   "execution_count": 5,
   "id": "20a43da3-f23c-41d1-b658-ecf603e69b94",
   "metadata": {},
   "outputs": [
    {
     "data": {
      "text/plain": [
       "('shreya', 19)"
      ]
     },
     "execution_count": 5,
     "metadata": {},
     "output_type": "execute_result"
    }
   ],
   "source": [
    "#Q1. Explain Class and Object with respect to Object-Oriented Programming. Give a suitable example.\n",
    "#Class is used for classification in object oriented progrmming.\n",
    "#Object or instance is a real world entity used to solve real world problems.\n",
    "#Example:\n",
    "class test1:\n",
    "    def __init__(self,name,age):\n",
    "        self.name=name\n",
    "        self.age=age\n",
    "    def details(self):\n",
    "        return self.name,self.age\n",
    "shreya=test1(\"shreya\",19)\n",
    "shreya.details()\n",
    "#in the above example class test1 is used to collect the name and age of the person and return it.\n",
    "#class is used for classification.The object used is shreya.We can the access the method by using variable.method name.\n",
    "#Self in the above example is used to link to the class."
   ]
  },
  {
   "cell_type": "code",
   "execution_count": 6,
   "id": "7367a796-3e9d-4f80-85fa-7ae5174e0be8",
   "metadata": {},
   "outputs": [],
   "source": [
    "#Q2. Name the four pillars of OOPs.\n",
    "#The four pillars of OOPS are:\n",
    "#Constructor\n",
    "#Polymorphism\n",
    "#Encapsulation\n",
    "#Inheritance"
   ]
  },
  {
   "cell_type": "code",
   "execution_count": 3,
   "id": "00dbfc3c-462a-4043-938d-e94287d440e4",
   "metadata": {},
   "outputs": [
    {
     "data": {
      "text/plain": [
       "(1234, 'abc', 18)"
      ]
     },
     "execution_count": 3,
     "metadata": {},
     "output_type": "execute_result"
    }
   ],
   "source": [
    "#Q3. Explain why the __init__() function is used. Give a suitable example.\n",
    "#__init__() is used in the class to accept the parametres given by the user.It is basically used to accept the parametres given by the user \n",
    "#during the creation of the object.\n",
    "#Example:\n",
    "class test2:\n",
    "    def __init__(self,college_id,name,age):\n",
    "        self.college_id=college_id\n",
    "        self.name=name\n",
    "        self.age=age\n",
    "    def details1(self):\n",
    "        return self.college_id,self.name,self.age\n",
    "s=test2(1234,\"abc\",18)\n",
    "s.details1()\n",
    "#in the above example __init__ is used to take the details during the creation of the object.details method return the details taken from \n",
    "#__init__.\n",
    "#self is used to link to the class."
   ]
  },
  {
   "cell_type": "code",
   "execution_count": 4,
   "id": "3c2cfb7c-d1f5-481e-9255-9144785dce28",
   "metadata": {},
   "outputs": [],
   "source": [
    "#Q4. Why self is used in OOPs?\n",
    "#Self is used in object oriented programming to link the defined methods to the class and the method can be accessed by the object created.\n",
    "#it is used to represent the instance of the class.\n",
    "#without using self if a define a method or a function then error will be shown.\n",
    "#self is not a keyword."
   ]
  },
  {
   "cell_type": "code",
   "execution_count": 10,
   "id": "d4bf268b-1cb6-453c-a830-372d18d3cfcf",
   "metadata": {},
   "outputs": [
    {
     "name": "stdout",
     "output_type": "stream",
     "text": [
      "This function is in parent class.\n",
      "This function is in child class.\n"
     ]
    }
   ],
   "source": [
    "#Q5. What is inheritance? Give an example for each type of inheritance.\n",
    "#Inheritance is defined as the mechanism of inheriting the properties of the base class to the child class.\n",
    "\n",
    "#Single Inheritance: \n",
    "#Single inheritance enables a derived class to inherit properties from a single parent class, thus enabling code reusability and \n",
    "#the addition of new features to existing code.\n",
    "# Base class\n",
    "class Parent:\n",
    "    def func1(self):\n",
    "        print(\"This function is in parent class.\")\n",
    " \n",
    "# Derived class\n",
    " \n",
    " \n",
    "class Child(Parent):\n",
    "    def func2(self):\n",
    "        print(\"This function is in child class.\")\n",
    " \n",
    " \n",
    "# Driver's code\n",
    "object = Child()\n",
    "object.func1()\n",
    "object.func2()"
   ]
  },
  {
   "cell_type": "code",
   "execution_count": 7,
   "id": "5827d234-75b2-4937-ad8e-61d5c050d018",
   "metadata": {},
   "outputs": [
    {
     "name": "stdout",
     "output_type": "stream",
     "text": [
      "Father : RAM\n",
      "Mother : SITA\n"
     ]
    }
   ],
   "source": [
    "#Multiple inheritance\n",
    "#When a class can be derived from more than one base class this type of inheritance is called multiple inheritances.\n",
    "#In multiple inheritances, all the features of the base classes are inherited into the derived class. \n",
    "# Base class1\n",
    "class Mother:\n",
    "    mothername = \"\"\n",
    " \n",
    "    def mother(self):\n",
    "        print(self.mothername)\n",
    " \n",
    "# Base class2\n",
    " \n",
    " \n",
    "class Father:\n",
    "    fathername = \"\"\n",
    " \n",
    "    def father(self):\n",
    "        print(self.fathername)\n",
    " \n",
    "# Derived class\n",
    " \n",
    " \n",
    "class Son(Mother, Father):\n",
    "    def parents(self):\n",
    "        print(\"Father :\", self.fathername)\n",
    "        print(\"Mother :\", self.mothername)\n",
    " \n",
    " \n",
    "# Driver's code\n",
    "s1 = Son()\n",
    "s1.fathername = \"RAM\"\n",
    "s1.mothername = \"SITA\"\n",
    "s1.parents()\n",
    "\n"
   ]
  },
  {
   "cell_type": "code",
   "execution_count": 8,
   "id": "85a53ba0-1708-465d-b0bf-90b7ac78e9d3",
   "metadata": {},
   "outputs": [
    {
     "name": "stdout",
     "output_type": "stream",
     "text": [
      "Lal mani\n",
      "Grandfather name : Lal mani\n",
      "Father name : Rampal\n",
      "Son name : Prince\n"
     ]
    }
   ],
   "source": [
    "#Multilevel Inheritance\n",
    "#In multilevel inheritance, features of the base class and the derived class are further inherited into the new derived class.\n",
    "#This is similar to a relationship representing a child and a grandfather. \n",
    "class Grandfather:\n",
    " \n",
    "    def __init__(self, grandfathername):\n",
    "        self.grandfathername = grandfathername\n",
    " \n",
    "# Intermediate class\n",
    " \n",
    " \n",
    "class Father(Grandfather):\n",
    "    def __init__(self, fathername, grandfathername):\n",
    "        self.fathername = fathername\n",
    " \n",
    "        # invoking constructor of Grandfather class\n",
    "        Grandfather.__init__(self, grandfathername)\n",
    " \n",
    "# Derived class\n",
    " \n",
    " \n",
    "class Son(Father):\n",
    "    def __init__(self, sonname, fathername, grandfathername):\n",
    "        self.sonname = sonname\n",
    " \n",
    "        # invoking constructor of Father class\n",
    "        Father.__init__(self, fathername, grandfathername)\n",
    " \n",
    "    def print_name(self):\n",
    "        print('Grandfather name :', self.grandfathername)\n",
    "        print(\"Father name :\", self.fathername)\n",
    "        print(\"Son name :\", self.sonname)\n",
    " \n",
    " \n",
    "#  Driver code\n",
    "s1 = Son('Prince', 'Rampal', 'Lal mani')\n",
    "print(s1.grandfathername)\n",
    "s1.print_name()"
   ]
  },
  {
   "cell_type": "code",
   "execution_count": 9,
   "id": "c2d1def4-b001-41ed-8332-ecf918cc29bf",
   "metadata": {},
   "outputs": [
    {
     "name": "stdout",
     "output_type": "stream",
     "text": [
      "This function is in parent class.\n",
      "This function is in child 1.\n",
      "This function is in parent class.\n",
      "This function is in child 2.\n"
     ]
    }
   ],
   "source": [
    "# Hierarchical Inheritance: \n",
    "# When more than one derived class are created from a single base this type of inheritance is called hierarchical inheritance. \n",
    "# In this program, we have a parent (base) class and two child (derived) classes.\n",
    "class Parent:\n",
    "    def func1(self):\n",
    "        print(\"This function is in parent class.\")\n",
    " \n",
    "# Derived class1\n",
    " \n",
    " \n",
    "class Child1(Parent):\n",
    "    def func2(self):\n",
    "        print(\"This function is in child 1.\")\n",
    " \n",
    "# Derivied class2\n",
    " \n",
    " \n",
    "class Child2(Parent):\n",
    "    def func3(self):\n",
    "        print(\"This function is in child 2.\")\n",
    " \n",
    " \n",
    "# Driver's code\n",
    "object1 = Child1()\n",
    "object2 = Child2()\n",
    "object1.func1()\n",
    "object1.func2()\n",
    "object2.func1()\n",
    "object2.func3()\n"
   ]
  },
  {
   "cell_type": "code",
   "execution_count": 11,
   "id": "81d4393a-4cc7-4635-ace6-93d8ec341e49",
   "metadata": {},
   "outputs": [
    {
     "name": "stdout",
     "output_type": "stream",
     "text": [
      "This function is in school.\n",
      "This function is in student 1. \n"
     ]
    }
   ],
   "source": [
    "# Hybrid Inheritance: \n",
    "# Inheritance consisting of multiple types of inheritance is called hybrid inheritance\n",
    "class School:\n",
    "    def func1(self):\n",
    "        print(\"This function is in school.\")\n",
    " \n",
    " \n",
    "class Student1(School):\n",
    "    def func2(self):\n",
    "        print(\"This function is in student 1. \")\n",
    " \n",
    " \n",
    "class Student2(School):\n",
    "    def func3(self):\n",
    "        print(\"This function is in student 2.\")\n",
    " \n",
    " \n",
    "class Student3(Student1, School):\n",
    "    def func4(self):\n",
    "        print(\"This function is in student 3.\")\n",
    " \n",
    " \n",
    "# Driver's code\n",
    "object = Student3()\n",
    "object.func1()\n",
    "object.func2()"
   ]
  }
 ],
 "metadata": {
  "kernelspec": {
   "display_name": "Python 3 (ipykernel)",
   "language": "python",
   "name": "python3"
  },
  "language_info": {
   "codemirror_mode": {
    "name": "ipython",
    "version": 3
   },
   "file_extension": ".py",
   "mimetype": "text/x-python",
   "name": "python",
   "nbconvert_exporter": "python",
   "pygments_lexer": "ipython3",
   "version": "3.10.8"
  }
 },
 "nbformat": 4,
 "nbformat_minor": 5
}
