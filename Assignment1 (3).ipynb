{
 "cells": [
  {
   "cell_type": "code",
   "execution_count": 3,
   "id": "05a84e57-d177-4413-946f-0b30afd53ca2",
   "metadata": {},
   "outputs": [
    {
     "name": "stdout",
     "output_type": "stream",
     "text": [
      "1\n",
      "2\n",
      "3\n",
      "4\n",
      "5\n"
     ]
    }
   ],
   "source": [
    "#1st question\n",
    "# Explain with an example each when to use a for loop and a while loop.\n",
    "#In for loop: The execution starts whithout checking the condition at the first place\n",
    "l=[1,2,3,4,5]\n",
    "for i in l:\n",
    "    print(i)"
   ]
  },
  {
   "cell_type": "code",
   "execution_count": 4,
   "id": "e35984f8-982c-4f0c-95a4-839fe2c109e4",
   "metadata": {},
   "outputs": [
    {
     "name": "stdout",
     "output_type": "stream",
     "text": [
      "0\n",
      "2\n",
      "4\n",
      "6\n",
      "8\n"
     ]
    }
   ],
   "source": [
    "#while loop\n",
    "#In while loop first the condition is checked and then executed if the condition is true\n",
    "#the while loop runs zero times if the condition is not true\n",
    "i=0\n",
    "while(i<10):\n",
    "      if (i%2==0):\n",
    "          print(i)\n",
    "      i=i+1\n",
    "          \n",
    "    "
   ]
  },
  {
   "cell_type": "code",
   "execution_count": 5,
   "id": "7c58b202-fa60-4e45-94c0-2d264201df9c",
   "metadata": {},
   "outputs": [
    {
     "name": "stdout",
     "output_type": "stream",
     "text": [
      "sum is 55\n",
      "the product is 3628800\n"
     ]
    }
   ],
   "source": [
    "# Q2 Write a python program to print the sum and product of the first 10 natural numbers using for\n",
    "#  and while loop.\n",
    "#using for loop\n",
    "sum=0\n",
    "product=1\n",
    "for i in range(11):\n",
    "    sum=sum+i\n",
    "print(\"sum is\",sum)\n",
    "for i in range(1,11):\n",
    "    product=product*i\n",
    "print(\"the product is\",product)\n",
    "\n",
    "\n"
   ]
  },
  {
   "cell_type": "code",
   "execution_count": 6,
   "id": "5155776e-6f86-40f6-81c9-ffba0c2d0e96",
   "metadata": {},
   "outputs": [
    {
     "name": "stdout",
     "output_type": "stream",
     "text": [
      "sum is 55\n",
      "the product is 3628800\n"
     ]
    }
   ],
   "source": [
    "#using while loop:\n",
    "i=0\n",
    "j=1\n",
    "sum=0\n",
    "while i<11:\n",
    "    sum=sum+i\n",
    "    i=i+1\n",
    "print(\"sum is\",sum)\n",
    "product =1\n",
    "while j<11:\n",
    "    product=product*j\n",
    "    j=j+1\n",
    "print(\"the product is\",product)"
   ]
  },
  {
   "cell_type": "code",
   "execution_count": 25,
   "id": "3703a5fd-c2d9-414a-b7ba-c708f765e33b",
   "metadata": {},
   "outputs": [
    {
     "name": "stdin",
     "output_type": "stream",
     "text": [
      "enter the number of units of electricity consumed 310\n"
     ]
    },
    {
     "name": "stdout",
     "output_type": "stream",
     "text": [
      "the charge is 2250.0 rupees\n"
     ]
    }
   ],
   "source": [
    "#Q3  The per-unit charges in rupees are as follows: For the first 100 units, the user will be charged Rs. 4.5 per\n",
    "# unit, for the next 100 units, the user will be charged Rs. 6 per unit, and for the next 100 units, the user will\n",
    "# be charged Rs. 10 per unit, After 300 units and above the user will be charged Rs. 20 per unit.\n",
    "unit=float(input(\"enter the number of units of electricity consumed\"))\n",
    "\n",
    "if unit<=100:\n",
    "    unit=(unit*4.5)\n",
    "    print(\"the charge is\",unit,\"rupees\")\n",
    "elif unit>100 and unit<=200:\n",
    "    unit=(unit-100)*6+450\n",
    "    print(\"the charge is\",unit,\"rupees\")\n",
    "elif unit>200 and unit<=300:\n",
    "    unit=(unit-200)*10+450+600\n",
    "    print(\"the charge is\",unit,\"rupees\")\n",
    "else:\n",
    "    unit=(unit-300)*20+1000+600+450\n",
    "    print(\"the charge is\",unit,\"rupees\")\n",
    "    \n",
    "    "
   ]
  },
  {
   "cell_type": "code",
   "execution_count": 9,
   "id": "97fcb922-3664-4986-a155-aea15e477ade",
   "metadata": {},
   "outputs": [
    {
     "name": "stdout",
     "output_type": "stream",
     "text": [
      "[1, 2, 3, 4, 5, 6, 7, 8, 9, 10, 11, 12, 13, 14, 15, 16, 17, 18, 19, 20, 21, 22, 23, 24, 25, 26, 27, 28, 29, 30, 31, 32, 33, 34, 35, 36, 37, 38, 39, 40, 41, 42, 43, 44, 45, 46, 47, 48, 49, 50, 51, 52, 53, 54, 55, 56, 57, 58, 59, 60, 61, 62, 63, 64, 65, 66, 67, 68, 69, 70, 71, 72, 73, 74, 75, 76, 77, 78, 79, 80, 81, 82, 83, 84, 85, 86, 87, 88, 89, 90, 91, 92, 93, 94, 95, 96, 97, 98, 99, 100]\n",
      "[2, 4, 5, 6, 8, 10, 12, 14, 15, 16, 18, 20, 22, 24, 25, 26, 28, 30, 32, 34, 35, 36, 38, 40, 42, 44, 45, 46, 48, 50, 52, 54, 55, 56, 58, 60, 62, 64, 65, 66, 68, 70, 72, 74, 75, 76, 78, 80, 82, 84, 85, 86, 88, 90, 92, 94, 95, 96, 98, 100]\n"
     ]
    }
   ],
   "source": [
    "# Q4. Create a list of numbers from 1 to 100. Use for loop and while loop to calculate the cube of each\n",
    "# number and if the cube of that number is divisible by 4 or 5 then append that number in a list and print\n",
    "# that list.\n",
    "l=[]\n",
    "for i in range(1,101):\n",
    "    l.append(i)\n",
    "print(l)\n",
    "l1=[]\n",
    "for i in l:\n",
    "    #print(i**3)\n",
    "    if (i**3)%4==0 or (i**3)%5==0:\n",
    "        l1.append(i)\n",
    "print(l1)\n"
   ]
  },
  {
   "cell_type": "code",
   "execution_count": 10,
   "id": "dc31f37c-6adf-4da8-bd3e-af80adcc3684",
   "metadata": {},
   "outputs": [
    {
     "name": "stdout",
     "output_type": "stream",
     "text": [
      "[1, 2, 3, 4, 5, 6, 7, 8, 9, 10, 11, 12, 13, 14, 15, 16, 17, 18, 19, 20, 21, 22, 23, 24, 25, 26, 27, 28, 29, 30, 31, 32, 33, 34, 35, 36, 37, 38, 39, 40, 41, 42, 43, 44, 45, 46, 47, 48, 49, 50, 51, 52, 53, 54, 55, 56, 57, 58, 59, 60, 61, 62, 63, 64, 65, 66, 67, 68, 69, 70, 71, 72, 73, 74, 75, 76, 77, 78, 79, 80, 81, 82, 83, 84, 85, 86, 87, 88, 89, 90, 91, 92, 93, 94, 95, 96, 97, 98, 99, 100]\n",
      "[2, 4, 5, 6, 8, 10, 12, 14, 15, 16, 18, 20, 22, 24, 25, 26, 28, 30, 32, 34, 35, 36, 38, 40, 42, 44, 45, 46, 48, 50, 52, 54, 55, 56, 58, 60, 62, 64, 65, 66, 68, 70, 72, 74, 75, 76, 78, 80, 82, 84, 85, 86, 88, 90, 92, 94, 95, 96, 98, 100]\n"
     ]
    }
   ],
   "source": [
    "#using while loop\n",
    "j=1\n",
    "l2=[]\n",
    "l3=[]\n",
    "while j<101:\n",
    "    l2.append(j)\n",
    "    j=j+1\n",
    "print(l2)\n",
    "k=1\n",
    "while k<101:\n",
    "    if (k**3)%4==0 or (k**3)%5==0:\n",
    "        l3.append(k)\n",
    "    k=k+1\n",
    "print(l3)\n",
    "        \n",
    "    "
   ]
  },
  {
   "cell_type": "code",
   "execution_count": 12,
   "id": "345b53c6-e0df-4832-b261-2054997a13e8",
   "metadata": {},
   "outputs": [
    {
     "name": "stdout",
     "output_type": "stream",
     "text": [
      "the number of vowels are: 11\n"
     ]
    }
   ],
   "source": [
    "# Q5. Write a program to filter count vowels in the below-given string.\n",
    "s= \"I want to become a data scientist\"\n",
    "count=0\n",
    "for i in s:\n",
    "    if i=='a' or i=='e' or i=='i' or i=='o' or i=='u':\n",
    "        count = count+1\n",
    "print(\"the number of vowels are:\",count)\n"
   ]
  },
  {
   "cell_type": "code",
   "execution_count": 23,
   "id": "17c16a43-fe87-4518-b848-1353f6403aae",
   "metadata": {},
   "outputs": [
    {
     "name": "stdout",
     "output_type": "stream",
     "text": [
      "a--> 4\n",
      "e--> 3\n",
      "i--> 2\n",
      "o--> 2\n",
      "u--> 0\n"
     ]
    }
   ],
   "source": [
    "#Q frequency of the vowels\n",
    "s= \"I want to become a data scientist\"\n",
    "count=0\n",
    "for i in s:\n",
    "    if i=='a':\n",
    "        count=count+1\n",
    "print(\"a-->\",count)\n",
    "count1=0\n",
    "for i in s:\n",
    "    if i=='e':\n",
    "        count1=count1+1\n",
    "print(\"e-->\",count1)\n",
    "count2=0\n",
    "for i in s:\n",
    "    if i=='i':\n",
    "        count2=count2+1\n",
    "print(\"i-->\",count2)\n",
    "count3=0\n",
    "for i in s:\n",
    "    if i=='o':\n",
    "        count3=count3+1\n",
    "print(\"o-->\",count3)\n",
    "count4=0\n",
    "for i in s:\n",
    "    if i=='u':\n",
    "        count4=count4+1\n",
    "print(\"u-->\",count4)\n",
    "   "
   ]
  }
 ],
 "metadata": {
  "kernelspec": {
   "display_name": "Python 3 (ipykernel)",
   "language": "python",
   "name": "python3"
  },
  "language_info": {
   "codemirror_mode": {
    "name": "ipython",
    "version": 3
   },
   "file_extension": ".py",
   "mimetype": "text/x-python",
   "name": "python",
   "nbconvert_exporter": "python",
   "pygments_lexer": "ipython3",
   "version": "3.10.8"
  }
 },
 "nbformat": 4,
 "nbformat_minor": 5
}
