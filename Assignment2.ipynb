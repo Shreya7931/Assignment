{
 "cells": [
  {
   "cell_type": "code",
   "execution_count": 1,
   "id": "276b979e-6465-4a38-9e70-1fb9ed0f0d6e",
   "metadata": {},
   "outputs": [
    {
     "data": {
      "text/plain": [
       "[1, 3, 5, 7, 9, 11, 13, 15, 17, 19, 21, 23, 25]"
      ]
     },
     "execution_count": 1,
     "metadata": {},
     "output_type": "execute_result"
    }
   ],
   "source": [
    "# Q1. Which keyword is used to create a function? Create a function to return a list of odd numbers in the\n",
    "# range of 1 to 25.\n",
    "#def keyword is used to create a function.\n",
    "def list():\n",
    "    l1=[]\n",
    "    for i in range(1,26):\n",
    "        if (i%2)!=0:\n",
    "            l1.append(i)\n",
    "    return l1\n",
    "list()"
   ]
  },
  {
   "cell_type": "code",
   "execution_count": 18,
   "id": "c8604a07-a019-4dcc-b6ab-9542d76b8353",
   "metadata": {},
   "outputs": [
    {
     "data": {
      "text/plain": [
       "{'a': 'hello world', 'b': 16, 'c': 34.5}"
      ]
     },
     "execution_count": 18,
     "metadata": {},
     "output_type": "execute_result"
    }
   ],
   "source": [
    "# Q2. Why *args and **kwargs is used in some functions? Create a function each for *args and **kwargs\n",
    "# to demonstrate their use.\n",
    "#*args:It is used to taken an input of any number of terms\n",
    "#**kwargs:It is used to give a  dictionary as output\n",
    "def test(*args):\n",
    "    return args\n",
    "test([1,2,3,4,5])\n",
    "def test1(**kwargs):\n",
    "    return kwargs\n",
    "test1(a = \"hello world\", b= 16,c=34.5)\n",
    "    "
   ]
  },
  {
   "cell_type": "code",
   "execution_count": 36,
   "id": "8e2fccca-33e3-4bbd-bf5c-c2ff51343d61",
   "metadata": {},
   "outputs": [
    {
     "name": "stdout",
     "output_type": "stream",
     "text": [
      "2\n",
      "5\n",
      "6\n",
      "8\n",
      "10\n"
     ]
    }
   ],
   "source": [
    "# Q3 What is an iterator in python? Name the method used to initialise the iterator object and the method\n",
    "# used for iteration. Use these methods to print the first five elements of the given list [2, 4, 6, 8, 10, 12, 14,\n",
    "# 16, 18, 20].\n",
    "#itearator in python is an object which is used to iterate over iterable ob \n",
    "l=[2,5,6,8,10,12,14,16,18,20]\n",
    "s1=iter(l)\n",
    "for i in range(5):\n",
    "    print(next(s1))\n"
   ]
  },
  {
   "cell_type": "code",
   "execution_count": 4,
   "id": "0a8a0c3a-3240-460c-a4f5-863d68e66a13",
   "metadata": {},
   "outputs": [
    {
     "name": "stdout",
     "output_type": "stream",
     "text": [
      "0\n",
      "1\n",
      "2\n",
      "3\n",
      "4\n",
      "5\n",
      "6\n",
      "7\n",
      "8\n",
      "9\n",
      "10\n"
     ]
    }
   ],
   "source": [
    "# Q4. What is a generator function in python? Why yield keyword is used? Give an example of a generator\n",
    "# function.\n",
    "#generator functions are those functions that, instead of returning a single value, return an iterable generator object.\n",
    "#The yield statement returns a generator object to the one who calls the function which contains yield, instead of simply returning a value. \n",
    "def test3(n):\n",
    "    count=0\n",
    "    while count<=n:\n",
    "        yield(count)\n",
    "        count=count+1\n",
    "    \n",
    "c=test3(10)\n",
    "for i in c:\n",
    "    print(i)\n",
    "    "
   ]
  },
  {
   "cell_type": "code",
   "execution_count": 17,
   "id": "140a22e4-81bf-461b-bf22-822992bcf88f",
   "metadata": {},
   "outputs": [
    {
     "name": "stdout",
     "output_type": "stream",
     "text": [
      "2\n",
      "3\n",
      "5\n",
      "7\n",
      "11\n",
      "13\n",
      "17\n",
      "19\n"
     ]
    }
   ],
   "source": [
    "# Q5. Create a generator function for prime numbers less than 1000. Use the next() method to print the\n",
    "# first 20 prime numbers.\n",
    "def genprimes(limit): # derived from \n",
    "                      # Code by David Eppstein, UC Irvine, 28 Feb 2002\n",
    "    D = {}            # http://code.activestate.com/recipes/117119/\n",
    "    q = 2\n",
    "\n",
    "    while q <= limit:\n",
    "        if q not in D:\n",
    "            yield q\n",
    "            D[q * q] = [q]\n",
    "        else:\n",
    "            for p in D[q]:\n",
    "                D.setdefault(p + q, []).append(p)\n",
    "            del D[q]\n",
    "        q += 1\n",
    "\n",
    "p = genprimes(20)\n",
    "prms=[i for i in p]\n",
    "prms1=iter(prms)\n",
    "for i in prms:\n",
    "    print(next(prms1))\n"
   ]
  },
  {
   "cell_type": "code",
   "execution_count": null,
   "id": "47ff5109-e829-4681-af57-52940292ebe2",
   "metadata": {},
   "outputs": [],
   "source": [
    "# Q6. Write a python program to print the first 10 Fibonacci numbers using a while loop.\n",
    "nterms = int(input(\"How many terms? \"))\n",
    "n1, n2 = 0, 1\n",
    "count = 0\n",
    "if nterms <= 0:\n",
    "   print(\"Please enter a positive integer\")\n",
    "elif nterms == 1:\n",
    "   print(\"Fibonacci sequence upto\",nterms,\":\")\n",
    "   print(n1)\n",
    "else:\n",
    "   print(\"Fibonacci sequence:\")\n",
    "   while count < nterms:\n",
    "       print(n1)\n",
    "       nth = n1 + n2\n",
    "       # update values\n",
    "       n1 = n2\n",
    "       n2 = nth\n",
    "       count += 1\n",
    "    "
   ]
  },
  {
   "cell_type": "code",
   "execution_count": 4,
   "id": "9e011d38-3b41-4ea2-a703-787963401c6c",
   "metadata": {},
   "outputs": [
    {
     "data": {
      "text/plain": [
       "['p', 'w', 's', 'k', 'i', 'l', 'l', 's']"
      ]
     },
     "execution_count": 4,
     "metadata": {},
     "output_type": "execute_result"
    }
   ],
   "source": [
    "# Q7. Write a List Comprehension to iterate through the given string: ‘pwskills’.\n",
    "# Expected output: ['p', 'w', 's', 'k', 'i', 'l', 'l', 's']\n",
    "s=\"pwskills\"\n",
    "[i for i in s]"
   ]
  },
  {
   "cell_type": "code",
   "execution_count": 8,
   "id": "0c748f1a-e359-41a8-88a3-ccfcfa1a88d2",
   "metadata": {},
   "outputs": [
    {
     "name": "stdin",
     "output_type": "stream",
     "text": [
      "Enter number: 1001\n"
     ]
    },
    {
     "name": "stdout",
     "output_type": "stream",
     "text": [
      "The number is a palindrome!\n"
     ]
    }
   ],
   "source": [
    "# Q8. Write a python program to check whether a given number is Palindrome or not using a while loop.\n",
    "n=int(input(\"Enter number:\"))\n",
    "temp=n\n",
    "rev=0\n",
    "while(n>0):\n",
    "    dig=n%10\n",
    "    rev=rev*10+dig\n",
    "    n=n//10\n",
    "if(temp==rev):\n",
    "    print(\"The number is a palindrome!\")\n",
    "else:\n",
    "    print(\"The number isn't a palindrome!\")"
   ]
  },
  {
   "cell_type": "code",
   "execution_count": 8,
   "id": "25f1d94e-3739-43d8-be57-9948bef9b2c8",
   "metadata": {},
   "outputs": [
    {
     "data": {
      "text/plain": [
       "[1,\n",
       " 3,\n",
       " 5,\n",
       " 7,\n",
       " 9,\n",
       " 11,\n",
       " 13,\n",
       " 15,\n",
       " 17,\n",
       " 19,\n",
       " 21,\n",
       " 23,\n",
       " 25,\n",
       " 27,\n",
       " 29,\n",
       " 31,\n",
       " 33,\n",
       " 35,\n",
       " 37,\n",
       " 39,\n",
       " 41,\n",
       " 43,\n",
       " 45,\n",
       " 47,\n",
       " 49,\n",
       " 51,\n",
       " 53,\n",
       " 55,\n",
       " 57,\n",
       " 59,\n",
       " 61,\n",
       " 63,\n",
       " 65,\n",
       " 67,\n",
       " 69,\n",
       " 71,\n",
       " 73,\n",
       " 75,\n",
       " 77,\n",
       " 79,\n",
       " 81,\n",
       " 83,\n",
       " 85,\n",
       " 87,\n",
       " 89,\n",
       " 91,\n",
       " 93,\n",
       " 95,\n",
       " 97,\n",
       " 99]"
      ]
     },
     "execution_count": 8,
     "metadata": {},
     "output_type": "execute_result"
    }
   ],
   "source": [
    "# Q9. Write a code to print odd numbers from 1 to 100 using list comprehension.\n",
    "# Note: Use a list comprehension to create a list from 1 to 100 and use another List comprehension to filter\n",
    "# out odd numbers.\n",
    "[i for i in range(101) if (i%2)!=0 ]"
   ]
  }
 ],
 "metadata": {
  "kernelspec": {
   "display_name": "Python 3 (ipykernel)",
   "language": "python",
   "name": "python3"
  },
  "language_info": {
   "codemirror_mode": {
    "name": "ipython",
    "version": 3
   },
   "file_extension": ".py",
   "mimetype": "text/x-python",
   "name": "python",
   "nbconvert_exporter": "python",
   "pygments_lexer": "ipython3",
   "version": "3.10.8"
  }
 },
 "nbformat": 4,
 "nbformat_minor": 5
}
