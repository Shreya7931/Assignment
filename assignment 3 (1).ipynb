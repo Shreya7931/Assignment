{
 "cells": [
  {
   "cell_type": "code",
   "execution_count": 6,
   "id": "2c7c63e8-d747-4e99-95a9-ecfe2c29736c",
   "metadata": {},
   "outputs": [
    {
     "name": "stdout",
     "output_type": "stream",
     "text": [
      "[('Virat Kohli', 24936), ('Jack Kallis', 25534), ('Ricky Ponting', 27483), ('Sachin Tendulkar', 34357)]\n"
     ]
    }
   ],
   "source": [
    "# Q1. Create a python program to sort the given list of tuples based on integer value using a\n",
    "# lambda function.\n",
    "l1=[('Sachin Tendulkar', 34357), ('Ricky Ponting', 27483), ('Jack Kallis', 25534), ('Virat Kohli', 24936)]\n",
    "l1.sort(key=lambda x:x[1])\n",
    "print(l1)\n"
   ]
  },
  {
   "cell_type": "code",
   "execution_count": 14,
   "id": "c583f380-f509-4949-84c3-0cc1f3abc245",
   "metadata": {},
   "outputs": [
    {
     "data": {
      "text/plain": [
       "[1, 4, 9, 16, 25, 36, 49, 64, 81, 100]"
      ]
     },
     "execution_count": 14,
     "metadata": {},
     "output_type": "execute_result"
    }
   ],
   "source": [
    "# Q2. Write a Python Program to find the squares of all the numbers in the given list of integers using\n",
    "# lambda and map functions.\n",
    "l=[1, 2, 3, 4, 5, 6, 7, 8, 9, 10]\n",
    "a=lambda x:x**2\n",
    "list(map(a,l))\n"
   ]
  },
  {
   "cell_type": "code",
   "execution_count": 19,
   "id": "40096cd5-7290-4acb-9218-9aaae5c96873",
   "metadata": {},
   "outputs": [
    {
     "data": {
      "text/plain": [
       "('1', '2', '3', '4', '5', '6', '7', '8', '9', '10')"
      ]
     },
     "execution_count": 19,
     "metadata": {},
     "output_type": "execute_result"
    }
   ],
   "source": [
    "# Q3. Write a python program to convert the given list of integers into a tuple of strings. Use map and\n",
    "# lambda functions\n",
    "s= [1, 2, 3, 4, 5, 6, 7, 8, 9, 10]\n",
    "# Expected output: ('1', '2', '3', '4', '5', '6', '7', '8', '9', '10')\n",
    "b=lambda c:str(c)\n",
    "tuple(map(b,s))"
   ]
  },
  {
   "cell_type": "code",
   "execution_count": 25,
   "id": "44776e64-da23-4656-a3c6-9d3c2fd505e6",
   "metadata": {},
   "outputs": [
    {
     "data": {
      "text/plain": [
       "15511210043330985984000000"
      ]
     },
     "execution_count": 25,
     "metadata": {},
     "output_type": "execute_result"
    }
   ],
   "source": [
    "# Q4. Write a python program using reduce function to compute the product of a list containing numbers\n",
    "# from 1 to 25.\n",
    "from functools import reduce\n",
    "l1=[1,2,3,4,5,6,7,8,9,10,11,12,13,14,15,16,17,18,19,20,21,22,23,24,25]\n",
    "reduce(lambda x,y:x*y,l1)"
   ]
  },
  {
   "cell_type": "code",
   "execution_count": 2,
   "id": "32a9e0dd-fac0-44bb-9d54-99f86d03b447",
   "metadata": {},
   "outputs": [
    {
     "data": {
      "text/plain": [
       "[6, 60, 90, 120]"
      ]
     },
     "execution_count": 2,
     "metadata": {},
     "output_type": "execute_result"
    }
   ],
   "source": [
    "# Q5. Write a python program to filter the numbers in a given list that are divisible by 2 and 3 using the\n",
    "# filter function.\n",
    "l2=[2, 3, 6, 9, 27, 60, 90, 120, 55, 46]\n",
    "list(filter(lambda x:x%6==0 ,l2))"
   ]
  },
  {
   "cell_type": "code",
   "execution_count": 1,
   "id": "b0ee5d04-d748-4c64-96b7-c8276667f588",
   "metadata": {},
   "outputs": [
    {
     "data": {
      "text/plain": [
       "['php', 'aba', 'radar', 'level']"
      ]
     },
     "execution_count": 1,
     "metadata": {},
     "output_type": "execute_result"
    }
   ],
   "source": [
    "# Q6. Write a python program to find palindromes in the given list of strings using lambda and filter\n",
    "# function.\n",
    "s=['python', 'php', 'aba', 'radar', 'level']\n",
    "list(filter(lambda x: (x == \"\".join(reversed(x))),s)) "
   ]
  }
 ],
 "metadata": {
  "kernelspec": {
   "display_name": "Python 3 (ipykernel)",
   "language": "python",
   "name": "python3"
  },
  "language_info": {
   "codemirror_mode": {
    "name": "ipython",
    "version": 3
   },
   "file_extension": ".py",
   "mimetype": "text/x-python",
   "name": "python",
   "nbconvert_exporter": "python",
   "pygments_lexer": "ipython3",
   "version": "3.10.8"
  }
 },
 "nbformat": 4,
 "nbformat_minor": 5
}
